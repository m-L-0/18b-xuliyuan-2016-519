{
 "cells": [
  {
   "cell_type": "code",
   "execution_count": 1,
   "metadata": {},
   "outputs": [
    {
     "name": "stderr",
     "output_type": "stream",
     "text": [
      "C:\\Users\\xly\\Anaconda3\\lib\\site-packages\\h5py\\__init__.py:36: FutureWarning: Conversion of the second argument of issubdtype from `float` to `np.floating` is deprecated. In future, it will be treated as `np.float64 == np.dtype(float).type`.\n",
      "  from ._conv import register_converters as _register_converters\n"
     ]
    }
   ],
   "source": [
    "import tensorflow as tf"
   ]
  },
  {
   "cell_type": "code",
   "execution_count": 5,
   "metadata": {},
   "outputs": [],
   "source": [
    "file = 'iris.txt'\n",
    "with open(file) as f:\n",
    "    iris = f.readlines()"
   ]
  },
  {
   "cell_type": "code",
   "execution_count": 6,
   "metadata": {},
   "outputs": [],
   "source": [
    "# 依照类别分组\n",
    "setosa = iris[:50]\n",
    "versicolor = iris[50:100]\n",
    "virginica = iris[100:]"
   ]
  },
  {
   "cell_type": "code",
   "execution_count": 7,
   "metadata": {},
   "outputs": [],
   "source": [
    "# 数据平均分\n",
    "samples = []\n",
    "for i in range(0, 50):\n",
    "    samples.append(setosa[i])\n",
    "    samples.append(versicolor[i])\n",
    "    samples.append(virginica[i])"
   ]
  },
  {
   "cell_type": "code",
   "execution_count": 8,
   "metadata": {},
   "outputs": [],
   "source": [
    "# 创建特征及赋值（4个特征）\n",
    "features = []\n",
    "labels = []\n",
    "for sample in samples:\n",
    "    aux = sample.split(\",\")\n",
    "    sepal_length = float(aux[0])\n",
    "    sepal_width = float(aux[1])\n",
    "    petal_length = float(aux[2])\n",
    "    petal_width = float(aux[3])\n",
    "    label = aux[4].strip()\n",
    "    features.append([sepal_length, sepal_width, petal_length, petal_width])\n",
    "    labels.append(label)"
   ]
  },
  {
   "cell_type": "code",
   "execution_count": 9,
   "metadata": {},
   "outputs": [],
   "source": [
    "# 数据集划分 将鸢尾花数据集按照8 : 2的比例划分成训练集与验证集\n",
    "percentual_samples_test = 0.8\n",
    "features_train = features[: int(percentual_samples_test * len(features))]\n",
    "labels_train = labels[: int(percentual_samples_test * len(features))]\n",
    "features_test = features[int(percentual_samples_test * len(features)):]\n",
    "labels_test = labels[int(percentual_samples_test * len(features)):]"
   ]
  },
  {
   "cell_type": "code",
   "execution_count": 10,
   "metadata": {},
   "outputs": [],
   "source": [
    "#占位符\n",
    "features_train_placeholder = tf.placeholder(\"float\", [None, 4])\n",
    "features_test_placeholder = tf.placeholder(\"float\", [4])"
   ]
  },
  {
   "cell_type": "code",
   "execution_count": 20,
   "metadata": {},
   "outputs": [],
   "source": [
    "#计算L1距离 用L1值寻找最近邻\n",
    "distance = tf.reduce_sum(tf.abs(tf.add(features_train_placeholder, tf.negative(features_test_placeholder))), reduction_indices=1)"
   ]
  },
  {
   "cell_type": "code",
   "execution_count": 21,
   "metadata": {},
   "outputs": [],
   "source": [
    "#分类精确度\n",
    "accuracy = 0"
   ]
  },
  {
   "cell_type": "code",
   "execution_count": 22,
   "metadata": {},
   "outputs": [],
   "source": [
    "# 预测: Get min distance index (K = 1, adjust for other values of K)\n",
    "pred = tf.arg_min(distance, 0)"
   ]
  },
  {
   "cell_type": "code",
   "execution_count": 23,
   "metadata": {},
   "outputs": [],
   "source": [
    "# 初始化\n",
    "init = tf.initialize_all_variables()"
   ]
  },
  {
   "cell_type": "code",
   "execution_count": 24,
   "metadata": {},
   "outputs": [
    {
     "name": "stdout",
     "output_type": "stream",
     "text": [
      "Data 0 预测: Iris-setosa 正确: Iris-setosa\n",
      "Data 1 预测: Iris-versicolor 正确: Iris-versicolor\n",
      "Data 2 预测: Iris-virginica 正确: Iris-virginica\n",
      "Data 3 预测: Iris-setosa 正确: Iris-setosa\n",
      "Data 4 预测: Iris-versicolor 正确: Iris-versicolor\n",
      "Data 5 预测: Iris-virginica 正确: Iris-virginica\n",
      "Data 6 预测: Iris-setosa 正确: Iris-setosa\n",
      "Data 7 预测: Iris-versicolor 正确: Iris-versicolor\n",
      "Data 8 预测: Iris-virginica 正确: Iris-virginica\n",
      "Data 9 预测: Iris-setosa 正确: Iris-setosa\n",
      "Data 10 预测: Iris-versicolor 正确: Iris-versicolor\n",
      "Data 11 预测: Iris-virginica 正确: Iris-virginica\n",
      "Data 12 预测: Iris-setosa 正确: Iris-setosa\n",
      "Data 13 预测: Iris-versicolor 正确: Iris-versicolor\n",
      "Data 14 预测: Iris-virginica 正确: Iris-virginica\n",
      "Data 15 预测: Iris-setosa 正确: Iris-setosa\n",
      "Data 16 预测: Iris-versicolor 正确: Iris-versicolor\n",
      "Data 17 预测: Iris-virginica 正确: Iris-virginica\n",
      "Data 18 预测: Iris-setosa 正确: Iris-setosa\n",
      "Data 19 预测: Iris-versicolor 正确: Iris-versicolor\n",
      "Data 20 预测: Iris-virginica 正确: Iris-virginica\n",
      "Data 21 预测: Iris-setosa 正确: Iris-setosa\n",
      "Data 22 预测: Iris-versicolor 正确: Iris-versicolor\n",
      "Data 23 预测: Iris-virginica 正确: Iris-virginica\n",
      "Data 24 预测: Iris-setosa 正确: Iris-setosa\n",
      "Data 25 预测: Iris-versicolor 正确: Iris-versicolor\n",
      "Data 26 预测: Iris-virginica 正确: Iris-virginica\n",
      "Data 27 预测: Iris-setosa 正确: Iris-setosa\n",
      "Data 28 预测: Iris-versicolor 正确: Iris-versicolor\n",
      "Data 29 预测: Iris-virginica 正确: Iris-virginica\n",
      "Accuracy: 0.9999999999999999\n"
     ]
    }
   ],
   "source": [
    "with tf.Session() as sess:\n",
    "    # 运行初始化\n",
    "    sess.run(init)\n",
    "    # 遍历测试数据\n",
    "    for i in range(len(features_test)):\n",
    "        # 获取当前样本的最近邻索引\n",
    "        nn_index = sess.run(pred, feed_dict={features_train_placeholder: features_train, features_test_placeholder: features_test[i]})\n",
    "        # 最近邻分类标签与真实标签比较\n",
    "        print(\"Data\", i, \"预测:\", labels_train[nn_index], \"正确:\", labels_test[i])\n",
    "        # 计算准确率\n",
    "        if labels_train[nn_index] == labels_test[i]:\n",
    "            accuracy += 1. / len(features_test)\n",
    "print(\"Accuracy:\", accuracy)"
   ]
  },
  {
   "cell_type": "code",
   "execution_count": null,
   "metadata": {},
   "outputs": [],
   "source": []
  }
 ],
 "metadata": {
  "kernelspec": {
   "display_name": "Python 3",
   "language": "python",
   "name": "python3"
  },
  "language_info": {
   "codemirror_mode": {
    "name": "ipython",
    "version": 3
   },
   "file_extension": ".py",
   "mimetype": "text/x-python",
   "name": "python",
   "nbconvert_exporter": "python",
   "pygments_lexer": "ipython3",
   "version": "3.6.4"
  }
 },
 "nbformat": 4,
 "nbformat_minor": 2
}
